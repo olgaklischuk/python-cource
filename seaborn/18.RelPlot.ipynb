{
 "cells": [
  {
   "cell_type": "code",
   "execution_count": null,
   "id": "d8ab7054-763a-4182-884a-29ad5e7ac75c",
   "metadata": {},
   "outputs": [],
   "source": [
    "#!/usr/bin/env python\n",
    "# coding: utf-8\n",
    "\n",
    "# In[60]:\n",
    "\n",
    "\n",
    "import pandas as pd\n",
    "import matplotlib.pyplot as plt\n",
    "import seaborn as sns\n",
    "\n",
    "\n",
    "# In[61]:\n",
    "\n",
    "\n",
    "mart = pd.read_excel(r'D:\\Learnerea\\Tables\\mart_linePlot.xlsx').sample(n=50)\n",
    "mart.columns=mart.columns.str.lower()\n",
    "mart.head()\n",
    "\n",
    "\n",
    "# In[76]:\n",
    "\n",
    "\n",
    "mart.to_excel(r'D:\\Learnerea\\Tables\\mart_relPlot.xlsx',index=False)\n",
    "\n",
    "\n",
    "# In[75]:\n",
    "\n",
    "\n",
    "sns.relplot(data=mart,x='outlet_year',y='sales',s=100,hue='outlet_size'\n",
    "#            ,col='outlet_size'\n",
    "#            ,row='tier'\n",
    "#            ,hue='outlet_size'\n",
    "           ,palette=['green','red','yellow'])\n"
   ]
  },
  {
   "cell_type": "code",
   "execution_count": null,
   "id": "e136af6c-daad-430f-8317-062ea0afae4a",
   "metadata": {},
   "outputs": [],
   "source": []
  }
 ],
 "metadata": {
  "kernelspec": {
   "display_name": "Python 3 (ipykernel)",
   "language": "python",
   "name": "python3"
  },
  "language_info": {
   "codemirror_mode": {
    "name": "ipython",
    "version": 3
   },
   "file_extension": ".py",
   "mimetype": "text/x-python",
   "name": "python",
   "nbconvert_exporter": "python",
   "pygments_lexer": "ipython3",
   "version": "3.7.12"
  }
 },
 "nbformat": 4,
 "nbformat_minor": 5
}
