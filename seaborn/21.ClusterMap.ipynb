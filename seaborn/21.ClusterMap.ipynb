{
 "cells": [
  {
   "cell_type": "code",
   "execution_count": null,
   "id": "1394a4a1-6748-4441-ad1a-8c6a26ea1a93",
   "metadata": {},
   "outputs": [],
   "source": [
    "#!/usr/bin/env python\n",
    "# coding: utf-8\n",
    "\n",
    "# In[45]:\n",
    "\n",
    "\n",
    "import pandas as pd\n",
    "import matplotlib.pyplot as plt\n",
    "# import numpy as np\n",
    "import seaborn as sns\n",
    "# from sunbird.categorical_encoding import frequency_encoding\n",
    "\n",
    "pd.set_option('display.max_rows',None)\n",
    "\n",
    "\n",
    "# In[87]:\n",
    "\n",
    "\n",
    "mart = pd.read_excel(r'D:\\Learnerea\\Tables\\mart_linePlot.xlsx')\n",
    "mart.columns = mart.columns.str.lower()\n",
    "mart.head(10)\n",
    "\n",
    "\n",
    "# In[88]:\n",
    "\n",
    "\n",
    "martPiv=mart.pivot_table(index='outlet_year',columns='outlet_size',values='sales')\n",
    "martPiv.head()\n",
    "\n",
    "\n",
    "# In[111]:\n",
    "\n",
    "\n",
    "sns.clustermap(martPiv\n",
    "#               ,col_cluster=False\n",
    "               ,row_cluster=False\n",
    "               ,annot=True\n",
    "               ,fmt='.0f'\n",
    "#                ,z_score=1\n",
    "               ,standard_scale=1\n",
    "               ,linewidth=.5\n",
    "              )\n"
   ]
  }
 ],
 "metadata": {
  "kernelspec": {
   "display_name": "Python 3 (ipykernel)",
   "language": "python",
   "name": "python3"
  },
  "language_info": {
   "codemirror_mode": {
    "name": "ipython",
    "version": 3
   },
   "file_extension": ".py",
   "mimetype": "text/x-python",
   "name": "python",
   "nbconvert_exporter": "python",
   "pygments_lexer": "ipython3",
   "version": "3.7.12"
  }
 },
 "nbformat": 4,
 "nbformat_minor": 5
}
