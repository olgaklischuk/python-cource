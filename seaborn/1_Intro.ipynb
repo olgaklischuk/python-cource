

# Installing Seaborn

#conda install seaborn

pip install seaborn


# Importing all the required libraries

import pandas as pd
import numpy as np
import matplotlib.pyplot as plt
import seaborn as sns

# Import the data

mart = pd.read_excel("Tables/supermarket_sales.xlsx")
mart.head()

# Create a COUNTPLOT

sns.countplot(x='Gender',data=mart)
