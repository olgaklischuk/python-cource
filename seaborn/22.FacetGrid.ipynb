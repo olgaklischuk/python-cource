{
 "cells": [
  {
   "cell_type": "code",
   "execution_count": null,
   "id": "3c0d751c-d482-49f1-8717-c17ef5a15efe",
   "metadata": {},
   "outputs": [],
   "source": [
    "#!/usr/bin/env python\n",
    "# coding: utf-8\n",
    "\n",
    "# In[95]:\n",
    "\n",
    "\n",
    "import pandas as pd\n",
    "import seaborn as sns\n",
    "import numpy as np\n",
    "import matplotlib.pyplot as plt\n",
    "\n",
    "\n",
    "# In[135]:\n",
    "\n",
    "\n",
    "mart = pd.read_excel(r'D:\\Learnerea\\Tables\\mart_linePlot.xlsx')\n",
    "mart.columns = mart.columns.str.lower()\n",
    "mart.head()\n",
    "\n",
    "\n",
    "# In[125]:\n",
    "\n",
    "\n",
    "mart.outlet_size.unique()\n",
    "\n",
    "\n",
    "# In[136]:\n",
    "\n",
    "\n",
    "mart.outlet_location_type.unique()\n",
    "\n",
    "\n",
    "# In[142]:\n",
    "\n",
    "\n",
    "learnerea=sns.FacetGrid(mart,col='outlet_size')\n",
    "learnerea.map_dataframe(sns.scatterplot,x='outlet_year',y='sales',hue='outlet_location_type'\n",
    "                       ,marker='+'\n",
    "                       ,alpha=0.5\n",
    "                       ,color='red'\n",
    "                       ,s=100)\n",
    "\n",
    "\n",
    "# In[152]:\n",
    "\n",
    "\n",
    "learnerea=sns.FacetGrid(mart,col='outlet_size',row='outlet_location_type',sharey=False,ylim=(0,1000))\n",
    "learnerea.map_dataframe(sns.histplot,x='sales')\n",
    "learnerea.set_axis_labels('sales','count')\n",
    "learnerea.set_titles(col_template='{col_name} Size',row_template='{row_name} Type')\n"
   ]
  }
 ],
 "metadata": {
  "kernelspec": {
   "display_name": "Python 3 (ipykernel)",
   "language": "python",
   "name": "python3"
  },
  "language_info": {
   "codemirror_mode": {
    "name": "ipython",
    "version": 3
   },
   "file_extension": ".py",
   "mimetype": "text/x-python",
   "name": "python",
   "nbconvert_exporter": "python",
   "pygments_lexer": "ipython3",
   "version": "3.7.12"
  }
 },
 "nbformat": 4,
 "nbformat_minor": 5
}
