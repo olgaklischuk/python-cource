{
 "cells": [
  {
   "cell_type": "code",
   "execution_count": null,
   "id": "3cb9d5fe-ecd5-45b6-877b-8b0f338d5a6e",
   "metadata": {},
   "outputs": [],
   "source": [
    "#!/usr/bin/env python\n",
    "# coding: utf-8\n",
    "\n",
    "# In[2]:\n",
    "\n",
    "\n",
    "import pandas as pd\n",
    "import matplotlib.pyplot as plt\n",
    "import seaborn as sns\n",
    "\n",
    "\n",
    "# In[3]:\n",
    "\n",
    "\n",
    "tips = sns.load_dataset('tips')\n",
    "tips.head()\n",
    "\n",
    "\n",
    "# **1. Creat a basic reg plot**\n",
    "\n",
    "# In[23]:\n",
    "\n",
    "\n",
    "sns.regplot(data=tips,x='total_bill',y='tip')\n",
    "\n",
    "\n",
    "# **2. Change the styling of reg plot, only line, only scatter, show/hide the ci, change the ci value, change n_boot**\n",
    "\n",
    "# In[38]:\n",
    "\n",
    "\n",
    "sns.regplot(data=tips,x='total_bill',y='tip'\n",
    "#            ,color='red'\n",
    "#            ,marker='+'\n",
    "           ,line_kws=dict(color='red',linestyle='--')\n",
    "           ,scatter_kws=dict(s=100,color='green',alpha=0.5)\n",
    "           ,ci=60\n",
    "           ,n_boot=500)\n",
    "\n",
    "\n",
    "# **3. Discuss aobut the statistical models in seaborn**\n",
    "\n",
    "# In[39]:\n",
    "\n",
    "\n",
    "sns.regplot(data=tips,x='total_bill',y='tip')\n"
   ]
  }
 ],
 "metadata": {
  "kernelspec": {
   "display_name": "Python 3 (ipykernel)",
   "language": "python",
   "name": "python3"
  },
  "language_info": {
   "codemirror_mode": {
    "name": "ipython",
    "version": 3
   },
   "file_extension": ".py",
   "mimetype": "text/x-python",
   "name": "python",
   "nbconvert_exporter": "python",
   "pygments_lexer": "ipython3",
   "version": "3.7.12"
  }
 },
 "nbformat": 4,
 "nbformat_minor": 5
}
