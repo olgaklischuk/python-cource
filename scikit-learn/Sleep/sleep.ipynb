{
 "cells": [
  {
   "cell_type": "markdown",
   "metadata": {},
   "source": [
    "# Sleep Analysis\n",
    "\n",
    "This is the situation that we will explore.\n",
    "\n",
    "<img src=\"img.png\" width=\"70%\"></img>"
   ]
  },
  {
   "cell_type": "code",
   "execution_count": 1,
   "metadata": {},
   "outputs": [],
   "source": [
    "import numpy as np\n",
    "import pandas as pd\n",
    "import matplotlib.pylab as plt\n",
    "df = pd.read_csv(\"/Users/vincent/Downloads/sleep_deprived_coding.csv\")"
   ]
  },
  {
   "cell_type": "code",
   "execution_count": 2,
   "metadata": {},
   "outputs": [
    {
     "data": {
      "text/html": [
       "<div>\n",
       "<style scoped>\n",
       "    .dataframe tbody tr th:only-of-type {\n",
       "        vertical-align: middle;\n",
       "    }\n",
       "\n",
       "    .dataframe tbody tr th {\n",
       "        vertical-align: top;\n",
       "    }\n",
       "\n",
       "    .dataframe thead th {\n",
       "        text-align: right;\n",
       "    }\n",
       "</style>\n",
       "<table border=\"1\" class=\"dataframe\">\n",
       "  <thead>\n",
       "    <tr style=\"text-align: right;\">\n",
       "      <th></th>\n",
       "      <th>n</th>\n",
       "      <th>mean_unit_tests</th>\n",
       "      <th>mean_asserts</th>\n",
       "      <th>mean_user_stories</th>\n",
       "    </tr>\n",
       "    <tr>\n",
       "      <th>sleep</th>\n",
       "      <th></th>\n",
       "      <th></th>\n",
       "      <th></th>\n",
       "      <th></th>\n",
       "    </tr>\n",
       "  </thead>\n",
       "  <tbody>\n",
       "    <tr>\n",
       "      <th>deprived</th>\n",
       "      <td>15</td>\n",
       "      <td>1.133333</td>\n",
       "      <td>3.266667</td>\n",
       "      <td>1.600000</td>\n",
       "    </tr>\n",
       "    <tr>\n",
       "      <th>normal</th>\n",
       "      <td>21</td>\n",
       "      <td>2.904762</td>\n",
       "      <td>4.952381</td>\n",
       "      <td>2.714286</td>\n",
       "    </tr>\n",
       "  </tbody>\n",
       "</table>\n",
       "</div>"
      ],
      "text/plain": [
       "           n  mean_unit_tests  mean_asserts  mean_user_stories\n",
       "sleep                                                         \n",
       "deprived  15         1.133333      3.266667           1.600000\n",
       "normal    21         2.904762      4.952381           2.714286"
      ]
     },
     "execution_count": 2,
     "metadata": {},
     "output_type": "execute_result"
    }
   ],
   "source": [
    "(df\n",
    "  .groupby('sleep')\n",
    "  .agg(n=('id', 'count'),\n",
    "       mean_unit_tests=('passed_unit_tests', np.mean),\n",
    "       mean_asserts=('passed_asserts', np.mean),\n",
    "       mean_user_stories=('tackled_user_stories', np.mean),))"
   ]
  },
  {
   "cell_type": "code",
   "execution_count": 3,
   "metadata": {},
   "outputs": [],
   "source": [
    "def reshuffle(dataf):\n",
    "    return (dataf\n",
    "             .sample(36)\n",
    "             .reset_index(drop=True)\n",
    "             .assign(sleep=lambda d: np.where(d.index < 15, 'deprived', 'normal')))\n",
    "\n",
    "def calc_diff(dataf):\n",
    "    agg = (dataf\n",
    "           .groupby('sleep')\n",
    "           .agg(mean_unit_tests=('passed_unit_tests', np.mean),\n",
    "                mean_asserts=('passed_asserts', np.mean),\n",
    "                mean_user_stories=('tackled_user_stories', np.mean),)).T\n",
    "    return agg['deprived'] - agg['normal']"
   ]
  },
  {
   "cell_type": "markdown",
   "metadata": {},
   "source": [
    "<img src=\"img2.png\" width=\"90%\"></img>"
   ]
  },
  {
   "cell_type": "code",
   "execution_count": 4,
   "metadata": {},
   "outputs": [],
   "source": [
    "n = 1000\n",
    "results = np.zeros((n, 3))\n",
    "for i in range(n):\n",
    "    results[i, :] = calc_diff(reshuffle(df))"
   ]
  },
  {
   "cell_type": "code",
   "execution_count": 5,
   "metadata": {},
   "outputs": [],
   "source": [
    "df_diff = pd.DataFrame(results, \n",
    "                       columns=['diff_unit_tests', \n",
    "                                'diff_asserts', \n",
    "                                'diff_user_stories'])"
   ]
  },
  {
   "cell_type": "markdown",
   "metadata": {},
   "source": [
    "Let's make a plot of this."
   ]
  },
  {
   "cell_type": "code",
   "execution_count": 35,
   "metadata": {},
   "outputs": [
    {
     "data": {
      "text/plain": [
       "{'mean_unit_tests': -1.7714285714285714,\n",
       " 'mean_asserts': -1.685714285714286,\n",
       " 'mean_user_stories': -1.1142857142857143}"
      ]
     },
     "execution_count": 35,
     "metadata": {},
     "output_type": "execute_result"
    }
   ],
   "source": [
    "dict(calc_diff(df))"
   ]
  },
  {
   "cell_type": "code",
   "execution_count": 28,
   "metadata": {},
   "outputs": [
    {
     "data": {
      "text/plain": [
       "{'mean_unit_tests': 0.19480519480519476,\n",
       " 'mean_asserts': 0.29220779220779214,\n",
       " 'mean_user_stories': 0.05844155844155852}"
      ]
     },
     "execution_count": 28,
     "metadata": {},
     "output_type": "execute_result"
    }
   ],
   "source": [
    "agg = (df\n",
    "       .assign(gpa=lambda d: d['gpa'] < d['gpa'].mean())\n",
    "       .groupby('gpa')\n",
    "       .agg(mean_unit_tests=('passed_unit_tests', np.mean),\n",
    "            mean_asserts=('passed_asserts', np.mean),\n",
    "            mean_user_stories=('tackled_user_stories', np.mean))).T\n",
    "\n",
    "effect_dict = dict(agg[False] - agg[True])\n",
    "effect_dict"
   ]
  },
  {
   "cell_type": "code",
   "execution_count": 29,
   "metadata": {},
   "outputs": [
    {
     "data": {
      "image/png": "[encoded data removed]",
      "text/plain": [
       "<Figure size 864x288 with 3 Axes>"
      ]
     },
     "metadata": {
      "needs_background": "light"
     },
     "output_type": "display_data"
    }
   ],
   "source": [
    "plt.figure(figsize=(12, 4))\n",
    "\n",
    "for idx, name in enumerate(['unit_tests', 'asserts', 'user_stories']):\n",
    "    plt.subplot(131 + idx)\n",
    "    plt.hist(df_diff[f'diff_{name}'])\n",
    "    plt.vlines(effect_dict[f'mean_{name}'], 0, 300, color='red')\n",
    "    plt.title(name)"
   ]
  },
  {
   "cell_type": "code",
   "execution_count": 30,
   "metadata": {},
   "outputs": [
    {
     "data": {
      "text/plain": [
       "{'mean_unit_tests': 0.19480519480519476,\n",
       " 'mean_asserts': 0.29220779220779214,\n",
       " 'mean_user_stories': 0.05844155844155852}"
      ]
     },
     "execution_count": 30,
     "metadata": {},
     "output_type": "execute_result"
    }
   ],
   "source": [
    "effect_dict"
   ]
  },
  {
   "cell_type": "code",
   "execution_count": 32,
   "metadata": {},
   "outputs": [
    {
     "data": {
      "text/plain": [
       "0.625"
      ]
     },
     "execution_count": 32,
     "metadata": {},
     "output_type": "execute_result"
    }
   ],
   "source": [
    "df_diff.assign(limit=lambda d: d['diff_unit_tests'] < 0.19480)['limit'].mean()"
   ]
  },
  {
   "cell_type": "code",
   "execution_count": 33,
   "metadata": {},
   "outputs": [
    {
     "data": {
      "text/plain": [
       "0.713"
      ]
     },
     "execution_count": 33,
     "metadata": {},
     "output_type": "execute_result"
    }
   ],
   "source": [
    "df_diff.assign(limit=lambda d: d['diff_asserts'] < 0.29220)['limit'].mean()"
   ]
  },
  {
   "cell_type": "code",
   "execution_count": 34,
   "metadata": {},
   "outputs": [
    {
     "data": {
      "text/plain": [
       "0.566"
      ]
     },
     "execution_count": 34,
     "metadata": {},
     "output_type": "execute_result"
    }
   ],
   "source": [
    "df_diff.assign(limit=lambda d: d['diff_user_stories'] < 0.05844)['limit'].mean()"
   ]
  }
 ],
 "metadata": {
  "kernelspec": {
   "display_name": "Python 3",
   "language": "python",
   "name": "python3"
  },
  "language_info": {
   "codemirror_mode": {
    "name": "ipython",
    "version": 3
   },
   "file_extension": ".py",
   "mimetype": "text/x-python",
   "name": "python",
   "nbconvert_exporter": "python",
   "pygments_lexer": "ipython3",
   "version": "3.7.3"
  }
 },
 "nbformat": 4,
 "nbformat_minor": 4
}
